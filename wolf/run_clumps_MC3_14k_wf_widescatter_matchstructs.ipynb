{
 "cells": [
  {
   "cell_type": "code",
   "execution_count": null,
   "metadata": {},
   "outputs": [
    {
     "name": "stdout",
     "output_type": "stream",
     "text": [
      "[20231205-18:49:24] [prefect] Starting Slurm controller ...\n",
      "[20231205-18:49:24] [prefect] Waiting up to 60 seconds for Slurm controller to start ...\n",
      "[20231205-18:49:25] [prefect] Started Slurm controller.\n",
      "[20231205-18:49:25] [prefect] Saving workflow results to persistent disk run-clumps-wide-matchstructs (100GB) mounted at /mnt/nfs/run-clumps-wide-matchstructs ...\n",
      "[20231205-18:49:26] [prefect] Workflow results disk low on space (97 GB remaining)\n",
      "[20231205-18:49:27] [prefect] Enqueued workflow run_CLUMPS_MC3_14k_wf_widescatter\n",
      "[20231205-18:49:28] [run_CLUMPS_MC3_14k_wf_widescatter:BatchLocalDisk] Hashing directory gs://sa-clumps2-ref/dat/pdbs/ftp.wwpdb.org/pub/pdb/data/structures/divided/pdb. This may take some time.\n",
      "[20231205-18:49:38] [run_CLUMPS_MC3_14k_wf_widescatter:BatchLocalDisk] Job avoidance disabled for this task; overwriting output.\n",
      "[20231205-18:49:38] [run_CLUMPS_MC3_14k_wf_widescatter:BatchLocalDisk] Localizing inputs...\n",
      "[20231205-18:49:46] [run_CLUMPS_MC3_14k_wf_widescatter:BatchLocalDisk] Disk name is canine-17125230a23febb9cc9109576e6e3ca4\n",
      "[20231205-18:49:47] [run_CLUMPS_MC3_14k_wf_widescatter:BatchLocalDisk] Found existing disk canine-17125230a23febb9cc9109576e6e3ca4\n",
      "[20231205-18:49:47] [run_CLUMPS_MC3_14k_wf_widescatter:BatchLocalDisk] Task staged in /mnt/nfs/run-clumps-wide-matchstructs/run_CLUMPS_MC3_14k_wf_widescatter/BatchLocalDisk__2023-12-05--18-49-38_mg4xwxy_tbhx1ki_rewhgzn5fr3zk\n",
      "[20231205-18:49:48] [run_CLUMPS_MC3_14k_wf_widescatter:BatchLocalDisk] 1 job submitted.\n",
      "[20231205-18:51:18] [run_CLUMPS_MC3_14k_wf_widescatter:BatchLocalDisk] Finished with status COMPLETED\n",
      "[20231205-18:51:19] [run_CLUMPS_MC3_14k_wf_widescatter:clumps_prep_task] Cannot recover preexisting task outputs: [Errno 2] No such file or directory: '/mnt/nfs/run-clumps-wide-matchstructs/run_CLUMPS_MC3_14k_wf_widescatter/clumps_prep_task__2023-12-05--18-51-19_oo501cy_lnmtxla_l1g5xcqbcs2eo/jobs/0'\n",
      "[20231205-18:51:19] [run_CLUMPS_MC3_14k_wf_widescatter:clumps_prep_task] Overwriting output and aborting job avoidance.\n",
      "[20231205-18:51:19] [run_CLUMPS_MC3_14k_wf_widescatter:clumps_prep_task] Localizing inputs...\n",
      "[20231205-18:51:19] [run_CLUMPS_MC3_14k_wf_widescatter:clumps_prep_task] Task staged in /mnt/nfs/run-clumps-wide-matchstructs/run_CLUMPS_MC3_14k_wf_widescatter/clumps_prep_task__2023-12-05--18-51-19_oo501cy_lnmtxla_l1g5xcqbcs2eo\n",
      "[20231205-18:51:19] [run_CLUMPS_MC3_14k_wf_widescatter:clumps_prep_task] 1 job submitted.\n",
      "[20231205-19:16:33] [run_CLUMPS_MC3_14k_wf_widescatter:clumps_prep_task] Finished with status COMPLETED\n",
      "[20231205-19:16:39] [run_CLUMPS_MC3_14k_wf_widescatter:clumps_run_task] Cannot recover preexisting task outputs: [Errno 2] No such file or directory: '/mnt/nfs/run-clumps-wide-matchstructs/run_CLUMPS_MC3_14k_wf_widescatter/clumps_run_task__2023-12-05--19-16-36_jskzaji_lnmtxla_40fsurc2y2fa4/jobs/0'\n",
      "[20231205-19:16:39] [run_CLUMPS_MC3_14k_wf_widescatter:clumps_run_task] Overwriting output and aborting job avoidance.\n",
      "[20231205-19:16:39] [run_CLUMPS_MC3_14k_wf_widescatter:clumps_run_task] Localizing inputs...\n",
      "[20231205-20:05:10] [run_CLUMPS_MC3_14k_wf_widescatter:clumps_run_task] Task staged in /mnt/nfs/run-clumps-wide-matchstructs/run_CLUMPS_MC3_14k_wf_widescatter/clumps_run_task__2023-12-05--19-16-36_jskzaji_lnmtxla_40fsurc2y2fa4\n",
      "[20231205-20:05:10] [run_CLUMPS_MC3_14k_wf_widescatter:clumps_run_task] 25440 jobs submitted.\n"
     ]
    }
   ],
   "source": [
    "#import pandas as pd\n",
    "import wolf\n",
    "from tasks import clumps_workflow\n",
    "from datetime import datetime\n",
    "\n",
    "\n",
    "\n",
    "\n",
    "maf = 'gs://sa-clumps2-ref/dat/MC3-14k-merge_v1.variant_classification.no_DO35598.maf'\n",
    "sampler = 'MutspecCoverageSampler'\n",
    "run_name = 'run_CLUMPS_MC3_14k_wf_widescatter'\n",
    "uniprot_map = 'gs://sa-clumps2-ref/af_ajd/allgenesstructmapped.txt'\n",
    "\n",
    "wolf.utils.set_log_path('./%s.log' % (run_name))\n",
    "\n",
    "with wolf.WolfWorkflow(\n",
    "        workflow = clumps_workflow,#(maf,sampler),\n",
    "        #run_name = run_name,\n",
    "        conf = { \"clust_frac\": 0.99 }, \n",
    "        common_task_opts = { \"retry\" : 6 } ,\n",
    "        storage_disk_size = 100,\n",
    "        namespace = 'run-clumps-wide-matchstructs'\n",
    ") as w:\n",
    "    w.run(\n",
    "        maf = maf,\n",
    "        sampler = sampler,\n",
    "        run_name = run_name,\n",
    "        scatterwidth = 25440,\n",
    "        uniprot_map = uniprot_map\n",
    "    )"
   ]
  },
  {
   "cell_type": "code",
   "execution_count": null,
   "metadata": {},
   "outputs": [],
   "source": []
  },
  {
   "cell_type": "code",
   "execution_count": null,
   "metadata": {},
   "outputs": [],
   "source": []
  }
 ],
 "metadata": {
  "kernelspec": {
   "display_name": "Python 3 (ipykernel)",
   "language": "python",
   "name": "python3"
  },
  "language_info": {
   "codemirror_mode": {
    "name": "ipython",
    "version": 3
   },
   "file_extension": ".py",
   "mimetype": "text/x-python",
   "name": "python",
   "nbconvert_exporter": "python",
   "pygments_lexer": "ipython3",
   "version": "3.9.7"
  }
 },
 "nbformat": 4,
 "nbformat_minor": 4
}
