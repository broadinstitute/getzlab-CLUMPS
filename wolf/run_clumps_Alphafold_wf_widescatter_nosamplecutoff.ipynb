{
 "cells": [
  {
   "cell_type": "code",
   "execution_count": null,
   "metadata": {},
   "outputs": [
    {
     "name": "stdout",
     "output_type": "stream",
     "text": [
      "[20240207-21:19:30] [prefect] Starting Slurm controller ...\n",
      "[20240207-21:19:30] [prefect] Waiting up to 60 seconds for Slurm controller to start ...\n",
      "[20240207-21:19:31] [prefect] Started Slurm controller.\n",
      "[20240207-21:19:31] [prefect] Saving workflow results to persistent disk run-clumps-wide-alphafold-nosampcutoff (100GB) mounted at /mnt/nfs/run-clumps-wide-alphafold-nosampcutoff ...\n",
      "[20240207-21:19:32] [prefect] Workflow results disk low on space (95 GB remaining)\n",
      "[20240207-21:19:32] [prefect] Enqueued workflow run_CLUMPS_MC3_14k_alphafold_wf\n",
      "[20240207-21:19:34] [run_CLUMPS_MC3_14k_alphafold_wf:BatchLocalDisk] Hashing directory gs://sa-clumps2-ref/af_ajd/af_dir. This may take some time.\n",
      "[20240207-21:19:37] [run_CLUMPS_MC3_14k_alphafold_wf:BatchLocalDisk] Job avoidance disabled for this task; overwriting output.\n",
      "[20240207-21:19:37] [run_CLUMPS_MC3_14k_alphafold_wf:BatchLocalDisk] Localizing inputs...\n",
      "[20240207-21:19:39] [run_CLUMPS_MC3_14k_alphafold_wf:BatchLocalDisk] Disk name is canine-01eccb70c4a7adab79c7997b8b6c5258\n",
      "[20240207-21:19:40] [run_CLUMPS_MC3_14k_alphafold_wf:BatchLocalDisk] Creating new persistent disk canine-01eccb70c4a7adab79c7997b8b6c5258\n",
      "[20240207-21:19:40] [run_CLUMPS_MC3_14k_alphafold_wf:BatchLocalDisk] Task staged in /mnt/nfs/run-clumps-wide-alphafold-nosampcutoff/run_CLUMPS_MC3_14k_alphafold_wf/BatchLocalDisk__2024-02-07--21-19-37_mg4xwxy_tbhx1ki_if0keht51wdk4\n",
      "[20240207-21:19:40] [run_CLUMPS_MC3_14k_alphafold_wf:BatchLocalDisk] 1 job submitted.\n"
     ]
    }
   ],
   "source": [
    "#import pandas as pd\n",
    "import wolf\n",
    "from tasks import clumps_workflow\n",
    "from datetime import datetime\n",
    "\n",
    "\n",
    "\n",
    "\n",
    "maf = 'gs://sa-clumps2-ref/dat/MC3-14k-merge_v1.variant_classification.no_DO35598.maf'\n",
    "sampler = 'MutspecCoverageSampler'\n",
    "run_name = 'run_CLUMPS_MC3_14k_alphafold_wf'\n",
    "pdb_dir = 'gs://sa-clumps2-ref/af_ajd/af_dir'\n",
    "uniprot_map = \"gs://sa-clumps2-ref/af_ajd/uniprot2af_map.txt\"\n",
    "setfile = '/home/adunford/data/14k_nosamplecutoff.run4'\n",
    "\n",
    "wolf.utils.set_log_path('./%s.log' % (run_name))\n",
    "\n",
    "with wolf.WolfWorkflow(\n",
    "        workflow = clumps_workflow,#(maf,sampler),\n",
    "        #run_name = run_name,\n",
    "        conf = { \"clust_frac\": 0.99 }, \n",
    "        common_task_opts = { \"retry\" : 6 } ,\n",
    "        storage_disk_size = 100,\n",
    "        namespace = 'run-clumps-wide-alphafold-nosampcutoff',\n",
    "    \n",
    ") as w:\n",
    "    w.run(\n",
    "        maf = maf,\n",
    "        sampler = sampler,\n",
    "        run_name = run_name,\n",
    "        scatterwidth = 22540,\n",
    "        pdb_dir = pdb_dir,\n",
    "        uniprot_map = uniprot_map,\n",
    "        setfile=setfile\n",
    "    )"
   ]
  },
  {
   "cell_type": "code",
   "execution_count": null,
   "metadata": {},
   "outputs": [],
   "source": []
  },
  {
   "cell_type": "code",
   "execution_count": null,
   "metadata": {},
   "outputs": [],
   "source": []
  }
 ],
 "metadata": {
  "kernelspec": {
   "display_name": "Python 3 (ipykernel)",
   "language": "python",
   "name": "python3"
  },
  "language_info": {
   "codemirror_mode": {
    "name": "ipython",
    "version": 3
   },
   "file_extension": ".py",
   "mimetype": "text/x-python",
   "name": "python",
   "nbconvert_exporter": "python",
   "pygments_lexer": "ipython3",
   "version": "3.9.7"
  }
 },
 "nbformat": 4,
 "nbformat_minor": 4
}
