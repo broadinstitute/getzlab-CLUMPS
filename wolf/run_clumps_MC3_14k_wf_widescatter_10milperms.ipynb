{
 "cells": [
  {
   "cell_type": "code",
   "execution_count": null,
   "metadata": {},
   "outputs": [
    {
     "name": "stdout",
     "output_type": "stream",
     "text": [
      "[20240215-17:16:29] [prefect] Starting Slurm controller ...\n",
      "[20240215-17:16:29] [prefect] Waiting up to 60 seconds for Slurm controller to start ...\n",
      "[20240215-17:16:29] [prefect] Started Slurm controller.\n",
      "[20240215-17:16:29] [prefect] Saving workflow results to persistent disk run-clumps-wide-10mil (50GB) mounted at /mnt/nfs/run-clumps-wide-10mil ...\n",
      "[20240215-17:16:30] [prefect] Workflow results disk low on space (44 GB remaining)\n",
      "[20240215-17:16:30] [prefect] Enqueued workflow run_CLUMPS_MC3_14k_10milperms\n",
      "[20240215-17:16:31] [run_CLUMPS_MC3_14k_10milperms:BatchLocalDisk] Hashing directory gs://sa-clumps2-ref/dat/pdbs/ftp.wwpdb.org/pub/pdb/data/structures/divided/pdb. This may take some time.\n",
      "[20240215-17:16:40] [run_CLUMPS_MC3_14k_10milperms:BatchLocalDisk] Job avoidance disabled for this task; overwriting output.\n",
      "[20240215-17:16:40] [run_CLUMPS_MC3_14k_10milperms:BatchLocalDisk] Localizing inputs...\n",
      "[20240215-17:16:50] [run_CLUMPS_MC3_14k_10milperms:BatchLocalDisk] Disk name is canine-09b144d5634ab0ddd59ddb416b866bde\n",
      "[20240215-17:16:50] [run_CLUMPS_MC3_14k_10milperms:BatchLocalDisk] Found existing disk canine-09b144d5634ab0ddd59ddb416b866bde\n",
      "[20240215-17:16:50] [run_CLUMPS_MC3_14k_10milperms:BatchLocalDisk] Task staged in /mnt/nfs/run-clumps-wide-10mil/run_CLUMPS_MC3_14k_10milperms/BatchLocalDisk__2024-02-12--20-02-07_mg4xwxy_tbhx1ki_3n05hhyqqgcwu\n",
      "[20240215-17:16:50] [run_CLUMPS_MC3_14k_10milperms:BatchLocalDisk] 1 job submitted.\n",
      "[20240215-17:18:51] [run_CLUMPS_MC3_14k_10milperms:BatchLocalDisk] Finished with status COMPLETED\n",
      "[20240215-17:18:51] [run_CLUMPS_MC3_14k_10milperms:clumps_prep_task] Localizing inputs...\n",
      "[20240215-17:18:51] [run_CLUMPS_MC3_14k_10milperms:clumps_prep_task] Task staged in /mnt/nfs/run-clumps-wide-10mil/run_CLUMPS_MC3_14k_10milperms/clumps_prep_task__2024-02-12--20-04-21_oo501cy_lnmtxla_4ujbxwffmruhg\n",
      "[20240215-17:18:51] [run_CLUMPS_MC3_14k_10milperms:clumps_prep_task] 1/1 jobs avoided\n",
      "[20240215-17:19:18] [run_CLUMPS_MC3_14k_10milperms:clumps_run_task] Localizing inputs...\n"
     ]
    }
   ],
   "source": [
    "#import pandas as pd\n",
    "import wolf\n",
    "from tasks import clumps_workflow\n",
    "from datetime import datetime\n",
    "\n",
    "\n",
    "\n",
    "\n",
    "maf = 'gs://sa-clumps2-ref/dat/MC3-14k-merge_v1.variant_classification.no_DO35598.maf'\n",
    "sampler = 'MutspecCoverageSampler'\n",
    "run_name = 'run_CLUMPS_MC3_14k_10milperms'\n",
    "setfile = '/home/adunford/data/14k.10milperms.run'\n",
    "\n",
    "wolf.utils.set_log_path('./%s.log' % (run_name))\n",
    "\n",
    "with wolf.WolfWorkflow(\n",
    "        workflow = clumps_workflow,#(maf,sampler),\n",
    "        #run_name = run_name,\n",
    "        conf = { \"clust_frac\": 0.99 }, \n",
    "        common_task_opts = { \"retry\" : 1},\n",
    "        storage_disk_size = 50,\n",
    "        namespace = 'run-clumps-wide-10mil'\n",
    ") as w:\n",
    "    w.run(\n",
    "        maf = maf,\n",
    "        sampler = sampler,\n",
    "        run_name = run_name,\n",
    "        scatterwidth = 102904,\n",
    "        setfile=setfile,\n",
    "        threads=32\n",
    "    )"
   ]
  },
  {
   "cell_type": "code",
   "execution_count": null,
   "metadata": {},
   "outputs": [],
   "source": []
  },
  {
   "cell_type": "code",
   "execution_count": null,
   "metadata": {},
   "outputs": [],
   "source": []
  }
 ],
 "metadata": {
  "kernelspec": {
   "display_name": "Python 3 (ipykernel)",
   "language": "python",
   "name": "python3"
  },
  "language_info": {
   "codemirror_mode": {
    "name": "ipython",
    "version": 3
   },
   "file_extension": ".py",
   "mimetype": "text/x-python",
   "name": "python",
   "nbconvert_exporter": "python",
   "pygments_lexer": "ipython3",
   "version": "3.9.7"
  }
 },
 "nbformat": 4,
 "nbformat_minor": 4
}
