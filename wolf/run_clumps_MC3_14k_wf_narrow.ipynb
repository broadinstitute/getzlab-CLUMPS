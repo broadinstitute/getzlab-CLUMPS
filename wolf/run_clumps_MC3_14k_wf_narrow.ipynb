{
 "cells": [
  {
   "cell_type": "code",
   "execution_count": 1,
   "metadata": {},
   "outputs": [
    {
     "name": "stdout",
     "output_type": "stream",
     "text": [
      "[20231128-17:15:41] [prefect] Starting Slurm controller ...\n",
      "[20231128-17:15:41] [prefect] Waiting up to 60 seconds for Slurm controller to start ...\n",
      "[20231128-17:15:41] [prefect] Started Slurm controller.\n",
      "[20231128-17:15:41] [prefect] Saving workflow results to persistent disk run-clumps-wide (100GB) mounted at /mnt/nfs/run-clumps-wide ...\n",
      "[20231128-17:15:43] [prefect] Enqueued workflow run_CLUMPS_MC3_14k_wf_widescatter_10_genes\n",
      "[20231128-17:15:44] [run_CLUMPS_MC3_14k_wf_widescatter_10_genes:BatchLocalDisk] Hashing directory gs://sa-clumps2-ref/dat/pdbs/ftp.wwpdb.org/pub/pdb/data/structures/divided/pdb. This may take some time.\n",
      "[20231128-17:15:54] [run_CLUMPS_MC3_14k_wf_widescatter_10_genes:BatchLocalDisk] Job avoidance disabled for this task; overwriting output.\n",
      "[20231128-17:15:54] [run_CLUMPS_MC3_14k_wf_widescatter_10_genes:BatchLocalDisk] Localizing inputs...\n",
      "[20231128-17:16:03] [run_CLUMPS_MC3_14k_wf_widescatter_10_genes:BatchLocalDisk] Disk name is canine-087b90ab393ab1e95888bd0f8e7ebd2c\n",
      "[20231128-17:16:03] [run_CLUMPS_MC3_14k_wf_widescatter_10_genes:BatchLocalDisk] Found existing disk canine-087b90ab393ab1e95888bd0f8e7ebd2c\n",
      "[20231128-17:16:03] [run_CLUMPS_MC3_14k_wf_widescatter_10_genes:BatchLocalDisk] Task staged in /mnt/nfs/run-clumps-wide/run_CLUMPS_MC3_14k_wf_widescatter_10_genes/BatchLocalDisk__2023-11-28--16-33-23_mg4xwxy_tbhx1ki_emnxtaafp4yue\n",
      "[20231128-17:16:04] [run_CLUMPS_MC3_14k_wf_widescatter_10_genes:BatchLocalDisk] 1 job submitted.\n",
      "[20231128-17:17:34] [run_CLUMPS_MC3_14k_wf_widescatter_10_genes:BatchLocalDisk] Finished with status COMPLETED\n",
      "[20231128-17:17:35] [run_CLUMPS_MC3_14k_wf_widescatter_10_genes:clumps_prep_task] Localizing inputs...\n",
      "[20231128-17:17:35] [run_CLUMPS_MC3_14k_wf_widescatter_10_genes:clumps_prep_task] Task staged in /mnt/nfs/run-clumps-wide/run_CLUMPS_MC3_14k_wf_widescatter_10_genes/clumps_prep_task__2023-11-28--16-35-05_oo501cy_lnmtxla_babffadhxw1nw\n",
      "[20231128-17:17:35] [run_CLUMPS_MC3_14k_wf_widescatter_10_genes:clumps_prep_task] 1/1 jobs avoided\n",
      "[20231128-17:17:35] [run_CLUMPS_MC3_14k_wf_widescatter_10_genes:clumps_run_task] Localizing inputs...\n",
      "[20231128-17:17:35] [run_CLUMPS_MC3_14k_wf_widescatter_10_genes:clumps_run_task] Task staged in /mnt/nfs/run-clumps-wide/run_CLUMPS_MC3_14k_wf_widescatter_10_genes/clumps_run_task__2023-11-28--17-00-47_jskzaji_lnmtxla_4nylqx1p5miec\n",
      "[20231128-17:17:35] [run_CLUMPS_MC3_14k_wf_widescatter_10_genes:clumps_run_task] 10/10 jobs avoided\n",
      "[20231128-17:17:35] [run_CLUMPS_MC3_14k_wf_widescatter_10_genes:clumps_postprocess_task] Cannot recover preexisting task outputs: [Errno 2] No such file or directory: '/mnt/nfs/run-clumps-wide/run_CLUMPS_MC3_14k_wf_widescatter_10_genes/clumps_postprocess_task__2023-11-28--17-17-35_qqqijsa_lnmtxla_v1cletzaa0zyi/jobs/0'\n",
      "[20231128-17:17:35] [run_CLUMPS_MC3_14k_wf_widescatter_10_genes:clumps_postprocess_task] Overwriting output and aborting job avoidance.\n",
      "[20231128-17:17:35] [run_CLUMPS_MC3_14k_wf_widescatter_10_genes:clumps_postprocess_task] Localizing inputs...\n",
      "[20231128-17:17:35] [run_CLUMPS_MC3_14k_wf_widescatter_10_genes:clumps_postprocess_task] Task staged in /mnt/nfs/run-clumps-wide/run_CLUMPS_MC3_14k_wf_widescatter_10_genes/clumps_postprocess_task__2023-11-28--17-17-35_qqqijsa_lnmtxla_v1cletzaa0zyi\n",
      "[20231128-17:17:35] [run_CLUMPS_MC3_14k_wf_widescatter_10_genes:clumps_postprocess_task] 1 job submitted.\n",
      "[20231128-17:21:37] [prefect] Workflow cancelled!\n",
      "[20231128-17:21:37] [prefect] Killing all tasks spawned by this workflow, please wait ...\n",
      "[20231128-17:21:38] [prefect] All tasks cancelled, please wait for cluster to shut down ...\n",
      "[20231128-17:21:38] [prefect] Collated results from workflow run_CLUMPS_MC3_14k_wf_widescatter_10_genes\n"
     ]
    }
   ],
   "source": [
    "#import pandas as pd\n",
    "import wolf\n",
    "from tasks import clumps_workflow\n",
    "from datetime import datetime\n",
    "\n",
    "\n",
    "\n",
    "\n",
    "maf = 'gs://sa-clumps2-ref/dat/MC3-14k-merge_v1.variant_classification.no_DO35598.maf'\n",
    "sampler = 'MutspecCoverageSampler'\n",
    "run_name = 'run_CLUMPS_MC3_14k_wf_widescatter_10_genes'\n",
    "\n",
    "wolf.utils.set_log_path('./%s.log' % (run_name))\n",
    "\n",
    "with wolf.WolfWorkflow(\n",
    "        workflow = clumps_workflow,#(maf,sampler),\n",
    "        #run_name = run_name,\n",
    "        conf = { \"clust_frac\": 0.99 }, \n",
    "        common_task_opts = { \"retry\" : 3} ,\n",
    "        storage_disk_size = 100,\n",
    "        namespace = 'run-clumps-wide'\n",
    ") as w:\n",
    "    w.run(\n",
    "        maf = maf,\n",
    "        sampler = sampler,\n",
    "        run_name = run_name,\n",
    "        scatterwidth = 10,\n",
    "        uniprot_map='gs://sa-clumps2-ref/dat/huniprot/huniprot2pdb.run18.filt.10_genes.txt'\n",
    "    )"
   ]
  },
  {
   "cell_type": "code",
   "execution_count": null,
   "metadata": {},
   "outputs": [],
   "source": []
  },
  {
   "cell_type": "code",
   "execution_count": null,
   "metadata": {},
   "outputs": [],
   "source": []
  }
 ],
 "metadata": {
  "kernelspec": {
   "display_name": "Python 3 (ipykernel)",
   "language": "python",
   "name": "python3"
  },
  "language_info": {
   "codemirror_mode": {
    "name": "ipython",
    "version": 3
   },
   "file_extension": ".py",
   "mimetype": "text/x-python",
   "name": "python",
   "nbconvert_exporter": "python",
   "pygments_lexer": "ipython3",
   "version": "3.9.7"
  }
 },
 "nbformat": 4,
 "nbformat_minor": 4
}
