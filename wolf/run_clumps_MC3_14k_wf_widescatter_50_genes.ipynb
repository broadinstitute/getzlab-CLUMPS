{
 "cells": [
  {
   "cell_type": "code",
   "execution_count": null,
   "metadata": {},
   "outputs": [
    {
     "name": "stdout",
     "output_type": "stream",
     "text": [
      "[20231128-19:40:22] [prefect] Starting Slurm controller ...\n",
      "[20231128-19:40:22] [prefect] Waiting up to 60 seconds for Slurm controller to start ...\n",
      "[20231128-19:40:23] [prefect] Started Slurm controller.\n",
      "[20231128-19:40:23] [prefect] Saving workflow results to persistent disk run-clumps-wide (100GB) mounted at /mnt/nfs/run-clumps-wide ...\n",
      "[20231128-19:40:24] [prefect] Enqueued workflow run_CLUMPS_MC3_14k_wf_widescatter_50_genes\n",
      "[20231128-19:40:26] [run_CLUMPS_MC3_14k_wf_widescatter_50_genes:BatchLocalDisk] Hashing directory gs://sa-clumps2-ref/dat/pdbs/ftp.wwpdb.org/pub/pdb/data/structures/divided/pdb. This may take some time.\n",
      "[20231128-19:40:35] [run_CLUMPS_MC3_14k_wf_widescatter_50_genes:BatchLocalDisk] Job avoidance disabled for this task; overwriting output.\n",
      "[20231128-19:40:35] [run_CLUMPS_MC3_14k_wf_widescatter_50_genes:BatchLocalDisk] Localizing inputs...\n",
      "[20231128-19:40:44] [run_CLUMPS_MC3_14k_wf_widescatter_50_genes:BatchLocalDisk] Disk name is canine-74772d0ddcf4e59610b8d6b08be7fefe\n",
      "[20231128-19:40:45] [run_CLUMPS_MC3_14k_wf_widescatter_50_genes:BatchLocalDisk] Creating new persistent disk canine-74772d0ddcf4e59610b8d6b08be7fefe\n",
      "[20231128-19:40:45] [run_CLUMPS_MC3_14k_wf_widescatter_50_genes:BatchLocalDisk] Task staged in /mnt/nfs/run-clumps-wide/run_CLUMPS_MC3_14k_wf_widescatter_50_genes/BatchLocalDisk__2023-11-28--19-40-35_mg4xwxy_tbhx1ki_tvpv4qeh03ssw\n",
      "[20231128-19:40:45] [run_CLUMPS_MC3_14k_wf_widescatter_50_genes:BatchLocalDisk] 1 job submitted.\n"
     ]
    }
   ],
   "source": [
    "#import pandas as pd\n",
    "import wolf\n",
    "from tasks import clumps_workflow\n",
    "from datetime import datetime\n",
    "\n",
    "\n",
    "\n",
    "\n",
    "maf = '/home/adunford/data/MC3-14k-merge_v1.50_genes.variant_classification.maf'\n",
    "sampler = 'MutspecCoverageSampler'\n",
    "run_name = 'run_CLUMPS_MC3_14k_wf_widescatter_50_genes'\n",
    "\n",
    "wolf.utils.set_log_path('./%s.log' % (run_name))\n",
    "\n",
    "with wolf.WolfWorkflow(\n",
    "        workflow = clumps_workflow,#(maf,sampler),\n",
    "        #run_name = run_name,\n",
    "        conf = { \"clust_frac\": 0.99 }, \n",
    "        common_task_opts = { \"retry\" : 3} ,\n",
    "        storage_disk_size = 100,\n",
    "        namespace = 'run-clumps-wide'\n",
    ") as w:\n",
    "    w.run(\n",
    "        maf = maf,\n",
    "        sampler = sampler,\n",
    "        run_name = run_name,\n",
    "        scatterwidth = 82,\n",
    "        uniprot_map='/home/adunford/data/huniprot_50genes/uniprot50genes.txt'\n",
    "    )"
   ]
  },
  {
   "cell_type": "code",
   "execution_count": null,
   "metadata": {},
   "outputs": [],
   "source": []
  },
  {
   "cell_type": "code",
   "execution_count": null,
   "metadata": {},
   "outputs": [],
   "source": []
  }
 ],
 "metadata": {
  "kernelspec": {
   "display_name": "Python 3 (ipykernel)",
   "language": "python",
   "name": "python3"
  },
  "language_info": {
   "codemirror_mode": {
    "name": "ipython",
    "version": 3
   },
   "file_extension": ".py",
   "mimetype": "text/x-python",
   "name": "python",
   "nbconvert_exporter": "python",
   "pygments_lexer": "ipython3",
   "version": "3.9.7"
  }
 },
 "nbformat": 4,
 "nbformat_minor": 4
}
