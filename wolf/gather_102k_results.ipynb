{
 "cells": [
  {
   "cell_type": "code",
   "execution_count": 3,
   "id": "71ffa1af",
   "metadata": {},
   "outputs": [],
   "source": [
    "import wolf\n",
    "import pandas as pd\n",
    "import numpy as np\n",
    "import os\n",
    "from tasks import clumps_postprocess_task"
   ]
  },
  {
   "cell_type": "code",
   "execution_count": 9,
   "id": "264519de",
   "metadata": {},
   "outputs": [],
   "source": [
    "uniprot_map = \"gs://sa-clumps2-ref/dat/huniprot/huniprot2pdb.run18.filt.txt\"\n",
    "\n",
    "clumps_out_manual = []\n",
    "for i in np.arange(0,102904):\n",
    "    out = '/mnt/nfs/run-clumps-wide/run_CLUMPS_MC3_14k_wf_widescatter/clumps_run_task__2023-12-01--19-58-31_jskzaji_lnmtxla_4qcg0gu4i002w/outputs/%s/run_outdir/clumpsOut.tar.gz' %i\n",
    "    if os.path.isfile(out):\n",
    "        clumps_out_manual.append(out)\n",
    "\n",
    "clumps_prep_res = '/mnt/nfs/run-clumps-wide/run_CLUMPS_MC3_14k_wf_widescatter/clumps_prep_task__2023-11-14--21-21-10_oo501cy_lnmtxla_4ujbxwffmruhg/WolfTaskResults.pickle'\n",
    "clumps_prep_results = pd.read_pickle(clumps_prep_res)"
   ]
  },
  {
   "cell_type": "code",
   "execution_count": 6,
   "id": "48630f09",
   "metadata": {},
   "outputs": [],
   "source": [
    "mutations = clumps_prep_results.__getitem__('mutations')"
   ]
  },
  {
   "cell_type": "code",
   "execution_count": 11,
   "id": "02e5a3a1",
   "metadata": {},
   "outputs": [
    {
     "data": {
      "text/plain": [
       "101400"
      ]
     },
     "execution_count": 11,
     "metadata": {},
     "output_type": "execute_result"
    }
   ],
   "source": [
    "len(clumps_out_manual)"
   ]
  },
  {
   "cell_type": "code",
   "execution_count": null,
   "id": "230706b5",
   "metadata": {},
   "outputs": [],
   "source": []
  },
  {
   "cell_type": "code",
   "execution_count": 12,
   "id": "aa76f208",
   "metadata": {},
   "outputs": [
    {
     "name": "stdout",
     "output_type": "stream",
     "text": [
      "[20231205-14:33:48] [prefect] Starting Slurm controller ...\n",
      "[20231205-14:33:48] [prefect] Waiting up to 60 seconds for Slurm controller to start ...\n",
      "[20231205-14:33:49] [prefect] Started Slurm controller.\n",
      "[20231205-14:36:46] [prefect] Cannot recover preexisting task outputs: [Errno 2] No such file or directory: '/mnt/nfs/workspace/clumps_postprocess_task__2023-12-05--14-36-43_qqqijsa_lnmtxla_lxyb5e05wgiio/jobs/0'\n",
      "[20231205-14:36:46] [prefect] Overwriting output and aborting job avoidance.\n",
      "[20231205-14:36:46] [prefect] Localizing inputs...\n",
      "[20231205-15:37:23] [prefect] Task staged in /mnt/nfs/workspace/clumps_postprocess_task__2023-12-05--14-36-43_qqqijsa_lnmtxla_lxyb5e05wgiio\n",
      "[20231205-15:37:23] [prefect] 1 job submitted.\n",
      "[20231205-16:56:07] [prefect] Finished with status COMPLETED\n"
     ]
    }
   ],
   "source": [
    "clumps_post_results = clumps_postprocess_task(\n",
    "    inputs = dict(\n",
    "        mutationsSplitByProtein =mutations,\n",
    "        uniprot_map = uniprot_map,\n",
    "        clumpsScanOut = [clumps_out_manual],\n",
    "        cancerGeneList = \"gs://sa-clumps2-ref/dat/allCancerGenes.txt\",\n",
    "        setfile = '/home/adunford/data/14k.run4',\n",
    "        ttype = \"PanCan\"\n",
    "    )\n",
    ")"
   ]
  },
  {
   "cell_type": "code",
   "execution_count": null,
   "id": "6be75a82",
   "metadata": {},
   "outputs": [],
   "source": [
    "clumps_postprocess_task\n"
   ]
  },
  {
   "cell_type": "code",
   "execution_count": null,
   "id": "0d6678a8",
   "metadata": {},
   "outputs": [],
   "source": []
  }
 ],
 "metadata": {
  "kernelspec": {
   "display_name": "Python 3 (ipykernel)",
   "language": "python",
   "name": "python3"
  },
  "language_info": {
   "codemirror_mode": {
    "name": "ipython",
    "version": 3
   },
   "file_extension": ".py",
   "mimetype": "text/x-python",
   "name": "python",
   "nbconvert_exporter": "python",
   "pygments_lexer": "ipython3",
   "version": "3.9.7"
  }
 },
 "nbformat": 4,
 "nbformat_minor": 5
}
