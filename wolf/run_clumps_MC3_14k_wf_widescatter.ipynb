{
 "cells": [
  {
   "cell_type": "code",
   "execution_count": null,
   "metadata": {},
   "outputs": [
    {
     "name": "stdout",
     "output_type": "stream",
     "text": [
      "[20231204-18:40:45] [prefect] Starting Slurm controller ...\n",
      "[20231204-18:40:45] [prefect] Waiting up to 60 seconds for Slurm controller to start ...\n",
      "[20231204-18:40:45] [prefect] Started Slurm controller.\n",
      "[20231204-18:40:45] [prefect] Saving workflow results to persistent disk run-clumps-wide (100GB) mounted at /mnt/nfs/run-clumps-wide ...\n",
      "[20231204-18:40:47] [prefect] Workflow results disk low on space (77 GB remaining)\n",
      "[20231204-18:40:47] [prefect] Enqueued workflow run_CLUMPS_MC3_14k_wf_widescatter\n",
      "[20231204-18:40:49] [run_CLUMPS_MC3_14k_wf_widescatter:BatchLocalDisk] Hashing directory gs://sa-clumps2-ref/dat/pdbs/ftp.wwpdb.org/pub/pdb/data/structures/divided/pdb. This may take some time.\n",
      "[20231204-18:40:59] [run_CLUMPS_MC3_14k_wf_widescatter:BatchLocalDisk] Job avoidance disabled for this task; overwriting output.\n",
      "[20231204-18:40:59] [run_CLUMPS_MC3_14k_wf_widescatter:BatchLocalDisk] Localizing inputs...\n",
      "[20231204-18:41:09] [run_CLUMPS_MC3_14k_wf_widescatter:BatchLocalDisk] Disk name is canine-09b144d5634ab0ddd59ddb416b866bde\n",
      "[20231204-18:41:10] [run_CLUMPS_MC3_14k_wf_widescatter:BatchLocalDisk] Found existing disk canine-09b144d5634ab0ddd59ddb416b866bde\n",
      "[20231204-18:41:10] [run_CLUMPS_MC3_14k_wf_widescatter:BatchLocalDisk] Task staged in /mnt/nfs/run-clumps-wide/run_CLUMPS_MC3_14k_wf_widescatter/BatchLocalDisk__2023-11-14--21-18-46_mg4xwxy_tbhx1ki_3n05hhyqqgcwu\n",
      "[20231204-18:41:10] [run_CLUMPS_MC3_14k_wf_widescatter:BatchLocalDisk] 1 job submitted.\n",
      "[20231204-18:42:41] [run_CLUMPS_MC3_14k_wf_widescatter:BatchLocalDisk] Finished with status COMPLETED\n",
      "[20231204-18:42:41] [run_CLUMPS_MC3_14k_wf_widescatter:clumps_prep_task] Localizing inputs...\n",
      "[20231204-18:42:41] [run_CLUMPS_MC3_14k_wf_widescatter:clumps_prep_task] Task staged in /mnt/nfs/run-clumps-wide/run_CLUMPS_MC3_14k_wf_widescatter/clumps_prep_task__2023-11-14--21-21-10_oo501cy_lnmtxla_4ujbxwffmruhg\n",
      "[20231204-18:42:41] [run_CLUMPS_MC3_14k_wf_widescatter:clumps_prep_task] 1/1 jobs avoided\n",
      "[20231204-18:51:07] [run_CLUMPS_MC3_14k_wf_widescatter:clumps_run_task] Localizing inputs...\n"
     ]
    }
   ],
   "source": [
    "#import pandas as pd\n",
    "import wolf\n",
    "from tasks import clumps_workflow\n",
    "from datetime import datetime\n",
    "\n",
    "\n",
    "\n",
    "\n",
    "maf = 'gs://sa-clumps2-ref/dat/MC3-14k-merge_v1.variant_classification.no_DO35598.maf'\n",
    "sampler = 'MutspecCoverageSampler'\n",
    "run_name = 'run_CLUMPS_MC3_14k_wf_widescatter'\n",
    "\n",
    "wolf.utils.set_log_path('./%s.log' % (run_name))\n",
    "\n",
    "with wolf.WolfWorkflow(\n",
    "        workflow = clumps_workflow,#(maf,sampler),\n",
    "        #run_name = run_name,\n",
    "        conf = { \"clust_frac\": 0.99 }, \n",
    "        common_task_opts = { \"retry\" : 6 } ,\n",
    "        storage_disk_size = 100,\n",
    "        namespace = 'run-clumps-wide'\n",
    ") as w:\n",
    "    w.run(\n",
    "        maf = maf,\n",
    "        sampler = sampler,\n",
    "        run_name = run_name,\n",
    "        scatterwidth = 102904\n",
    "    )"
   ]
  },
  {
   "cell_type": "code",
   "execution_count": null,
   "metadata": {},
   "outputs": [],
   "source": []
  },
  {
   "cell_type": "code",
   "execution_count": null,
   "metadata": {},
   "outputs": [],
   "source": []
  }
 ],
 "metadata": {
  "kernelspec": {
   "display_name": "Python 3 (ipykernel)",
   "language": "python",
   "name": "python3"
  },
  "language_info": {
   "codemirror_mode": {
    "name": "ipython",
    "version": 3
   },
   "file_extension": ".py",
   "mimetype": "text/x-python",
   "name": "python",
   "nbconvert_exporter": "python",
   "pygments_lexer": "ipython3",
   "version": "3.9.7"
  }
 },
 "nbformat": 4,
 "nbformat_minor": 4
}
