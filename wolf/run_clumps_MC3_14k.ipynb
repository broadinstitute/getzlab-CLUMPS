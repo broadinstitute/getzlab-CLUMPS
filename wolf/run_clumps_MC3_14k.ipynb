{
 "cells": [
  {
   "cell_type": "code",
   "execution_count": 1,
   "metadata": {},
   "outputs": [],
   "source": [
    "import pandas as pd\n",
    "import wolf\n",
    "from tasks import clumps_prep_task"
   ]
  },
  {
   "cell_type": "code",
   "execution_count": 2,
   "metadata": {},
   "outputs": [
    {
     "name": "stdout",
     "output_type": "stream",
     "text": [
      "[20230922-17:56:14] [prefect] Starting Slurm controller ...\n",
      "[20230922-17:56:14] [prefect] Waiting up to 60 seconds for Slurm controller to start ...\n",
      "[20230922-17:56:14] [prefect] Started Slurm controller.\n",
      "[20230922-17:56:14] [prefect] Workflow results disk low on space (30 GB remaining)\n",
      "[20230922-17:56:14] [prefect] Hashing file /home/adunford/data/MC3-14k-merge_v1.variant_classification.maf; 100/344 MiB completed\n",
      "[20230922-17:56:14] [prefect] Hashing file /home/adunford/data/MC3-14k-merge_v1.variant_classification.maf; 200/344 MiB completed\n",
      "[20230922-17:56:14] [prefect] Hashing file /home/adunford/data/MC3-14k-merge_v1.variant_classification.maf; 300/344 MiB completed\n",
      "[20230922-17:56:16] [prefect] Hashing directory gs://sa-clumps2-ref/dat/pdbs/ftp.wwpdb.org/pub/pdb/data/structures/divided/pdb. This may take some time.\n",
      "[20230922-17:56:23] [prefect] Job avoidance disabled for this task; overwriting output.\n",
      "[20230922-17:56:23] [prefect] Localizing inputs...\n",
      "[20230922-17:56:30] [prefect] Disk name is canine-b9ac211c1125e4506db30381ad9a6907\n",
      "[20230922-17:56:31] [prefect] Found existing disk canine-b9ac211c1125e4506db30381ad9a6907\n",
      "[20230922-17:56:31] [prefect] Task staged in /mnt/nfs/workspace/BatchLocalDisk__2023-07-06--20-23-11_mg4xwxy_tbhx1ki_uqbz20530lkbq\n",
      "[20230922-17:56:31] [prefect] 1 job submitted.\n",
      "[20230922-17:58:02] [prefect] Finished with status COMPLETED\n"
     ]
    }
   ],
   "source": [
    "clumps_localization_task = wolf.localization.BatchLocalDisk()\n",
    "\n",
    "localization_results = clumps_localization_task.run(\n",
    "    maf = \"/home/adunford/data/MC3-14k-merge_v1.variant_classification.maf\",\n",
    "    genome_2bit = \"gs://sa-clumps2-ref/dat/hg19.2bit\",\n",
    "    fasta = \"gs://sa-clumps2-ref/dat/UP000005640_9606.fasta.gz\",\n",
    "    gpmaps = \"gs://sa-clumps2-ref/dat/genomeProteomeMaps.txt\",\n",
    "    #prot2pdb_chunks = \"gs://sa-clumps2-ref/dat/huniprot/huniprot2pdb.run18_chunks\",\n",
    "    pdb_dir = \"gs://sa-clumps2-ref/dat/pdbs/ftp.wwpdb.org/pub/pdb/data/structures/divided/pdb\",\n",
    "    coverage_track = \"gs://sa-clumps2-ref/dat/cov/WEx_cov.fwb\",\n",
    "    coverage_track_index = \"gs://sa-clumps2-ref/dat/cov/WEx_cov.fwi\",\n",
    "    cancer_genes = \"gs://sa-clumps2-ref/dat/allCancerGenes.txt\",\n",
    "    uniprot_map = \"/home/adunford/data/huniprot2pdb.run18.filt.txt.gz\"\n",
    ")\n",
    "\n"
   ]
  },
  {
   "cell_type": "code",
   "execution_count": 3,
   "metadata": {},
   "outputs": [
    {
     "data": {
      "text/plain": [
       "<WolfTaskResults: State: COMPLETED\n",
       "                  Inputs: {'pdb_dir': '<array>', 'coverage_track': '<array>', 'coverage_track_index': '<array>', 'uniprot_map': '<array>', 'cancer_genes': '<array>', 'genome_2bit': '<array>', 'fasta': '<array>', 'maf': '<array>', 'gpmaps': '<array>'}\n",
       "                  Outputs: {cancer_genes, coverage_track, coverage_track_index, fasta, genome_2bit, gpmaps, maf, pdb_dir, uniprot_map}>"
      ]
     },
     "execution_count": 3,
     "metadata": {},
     "output_type": "execute_result"
    }
   ],
   "source": [
    "localization_results"
   ]
  },
  {
   "cell_type": "code",
   "execution_count": 4,
   "metadata": {},
   "outputs": [
    {
     "name": "stdout",
     "output_type": "stream",
     "text": [
      "[20230922-17:58:02] [prefect] Starting Slurm controller ...\n",
      "[20230922-17:58:02] [prefect] Waiting up to 60 seconds for Slurm controller to start ...\n",
      "[20230922-17:58:02] [prefect] Started Slurm controller.\n",
      "[20230922-17:58:02] [prefect] Workflow results disk low on space (32 GB remaining)\n",
      "[20230922-17:58:03] [prefect] Cannot recover preexisting task outputs: [Errno 2] No such file or directory: '/mnt/nfs/workspace/clumps_prep_task__2023-09-22--17-58-03_0abueji_lnmtxla_c5qzcu114xoik/jobs/0'\n",
      "[20230922-17:58:03] [prefect] Overwriting output and aborting job avoidance.\n",
      "[20230922-17:58:03] [prefect] Localizing inputs...\n",
      "[20230922-17:58:03] [prefect] Task staged in /mnt/nfs/workspace/clumps_prep_task__2023-09-22--17-58-03_0abueji_lnmtxla_c5qzcu114xoik\n",
      "[20230922-17:58:03] [prefect] 1 job submitted.\n",
      "[20230922-18:23:15] [prefect] Finished with status COMPLETED\n"
     ]
    }
   ],
   "source": [
    "clumps_prep_results = clumps_prep_task(\n",
    "    inputs = dict(\n",
    "        inMaf = localization_results['maf'],\n",
    "        genome_2bit = localization_results['genome_2bit'],\n",
    "        #gpmaps = localization_results['gpmaps'],\n",
    "        fasta = localization_results['fasta'],\n",
    "        scatterWidth =  350,\n",
    "        huniprot2pdb = localization_results['uniprot_map']\n",
    "    ))\n"
   ]
  },
  {
   "cell_type": "code",
   "execution_count": 5,
   "metadata": {},
   "outputs": [
    {
     "data": {
      "text/plain": [
       "<WolfTaskResults: State: COMPLETED\n",
       "                  Inputs: {'fasta': '<array>', 'genome_2bit': '<array>', 'huniprot2pdb': '<array>', 'inMaf': '<array>', 'scatterWidth': '<array>'}\n",
       "                  Outputs: {mutations, sampleMutSpectra, sampleMutFreq, prot2pdbchunks}>"
      ]
     },
     "execution_count": 5,
     "metadata": {},
     "output_type": "execute_result"
    }
   ],
   "source": [
    "clumps_prep_results"
   ]
  },
  {
   "cell_type": "code",
   "execution_count": 6,
   "metadata": {},
   "outputs": [
    {
     "data": {
      "text/plain": [
       "\"\\n    ## making sure we're writing to local disk (not boot disk)\\n    mkdir sw\\n    cp -vr /sw/* sw\\n    rm -rf /sw\\n    ln -vs $PWD/sw /sw\\n    #unpack mutations from clumps prep\\n    #tar xzvf ${mutationsTarball} && mv splitByProtein /sw/dat/\\n    cp -r ${mutationsTarball} /sw/dat/\\n\\n    #link 2bit, fasta locally a\\n    ln ${genome_2bit} /sw/src/\\n    ln ${fasta}  /sw/src/\\n    \\n    mkdir -p /sw/dat/ftp.wwpdb.org/pub/pdb/data/structures/divided/\\n    ln ${pdb_dir} /sw/dat/ftp.wwpdb.org/pub/pdb/data/structures/divided/ #... think I need to do this so pdb is in expected location? \\n    \\n    #then this is done to parse through huniprot list\\n    if [ ${lineId} = -1 ]; then\\n        nlines=`zcat ${prot2pdb_chunks} | wc -l`\\n        lines=$(seq 1 $nlines)\\n    else\\n        lines=${lineId}\\n    fi\\n    \\n    START_DIR=$PWD\\n    cd /sw/src\\n    for line in $lines;     do\\n        echo python clumps2.py ${setfile} ${timeout} ${nthreads} ${prot2pdb_chunks} $line ${ttype} ${sampler} ${sampleMutFreq} ${sampleMutSpectra} ${coverage_track};         python clumps2.py ${setfile} ${timeout} ${nthreads} ${prot2pdb_chunks} $line ${ttype} ${sampler} ${sampleMutFreq} ${sampleMutSpectra} ${coverage_track};     done\\n\\n    tar czf clumpsOut.tar.gz /sw/res\\n    mv -v clumpsOut.tar.gz $START_DIR\\n\\n    \""
      ]
     },
     "execution_count": 6,
     "metadata": {},
     "output_type": "execute_result"
    }
   ],
   "source": [
    "from tasks import clumps_run_task\n",
    "clumps_run_task.script"
   ]
  },
  {
   "cell_type": "code",
   "execution_count": null,
   "metadata": {},
   "outputs": [
    {
     "name": "stdout",
     "output_type": "stream",
     "text": [
      "[20230922-18:23:15] [prefect] Starting Slurm controller ...\n",
      "[20230922-18:23:15] [prefect] Waiting up to 60 seconds for Slurm controller to start ...\n",
      "[20230922-18:23:15] [prefect] Started Slurm controller.\n",
      "[20230922-18:23:15] [prefect] Workflow results disk low on space (31 GB remaining)\n",
      "[20230922-18:23:16] [prefect] Cannot recover preexisting task outputs: [Errno 2] No such file or directory: '/mnt/nfs/workspace/clumps_run_task__2023-09-22--18-23-16_lv0axny_lnmtxla_x5udy0irircts/jobs/0'\n",
      "[20230922-18:23:16] [prefect] Overwriting output and aborting job avoidance.\n",
      "[20230922-18:23:16] [prefect] Localizing inputs...\n",
      "[20230922-18:23:42] [prefect] Task staged in /mnt/nfs/workspace/clumps_run_task__2023-09-22--18-23-16_lv0axny_lnmtxla_x5udy0irircts\n",
      "[20230922-18:23:42] [prefect] 350 jobs submitted.\n"
     ]
    }
   ],
   "source": [
    "\n",
    "clumps_results = clumps_run_task(                                                                                                                                                                               \n",
    "                                                                                                                                                                                                                                    \n",
    "    inputs = dict(\n",
    "        mutationsTarball  = clumps_prep_results['mutations'],\n",
    "        sampleMutFreq = clumps_prep_results['sampleMutFreq'],\n",
    "        sampleMutSpectra = clumps_prep_results['sampleMutSpectra'],\n",
    "        setfile = '/home/adunford/data/14k.run4',\n",
    "        prot2pdb_chunks = clumps_prep_results['prot2pdbchunks'],\n",
    "        pdb_dir = localization_results['pdb_dir'],\n",
    "        coverage_track = localization_results['coverage_track'],\n",
    "        coverage_track_index = localization_results['coverage_track_index'], # not actually used as an input; just needs to be localized alongside coverage_track                                                                                                                                                   \n",
    "        genome_2bit = localization_results['genome_2bit'],\n",
    "        fasta = localization_results['fasta'],\n",
    "        gpmaps = localization_results['gpmaps'],\n",
    "        sampler = \"MutspecCoverageSampler\",\n",
    "        lineId = -1,\n",
    "        nthreads = 8,\n",
    "        ttype = \"PanCan\",\n",
    "        timeout = 7200\n",
    "\n",
    "    )\n",
    ")"
   ]
  },
  {
   "cell_type": "code",
   "execution_count": 13,
   "metadata": {},
   "outputs": [
    {
     "data": {
      "text/plain": [
       "<WolfTaskResults: States: FAILED: 192, COMPLETED: 152, OUT_OF_ME+: 6\n",
       "                  Inputs: {'coverage_track': '<array>', 'coverage_track_index': '<array>', 'fasta': '<array>', 'genome_2bit': '<array>', 'gpmaps': '<array>', 'lineId': '<array>', 'max_perms': '<array>', 'mutationsTarball': '<array>', 'nthreads': '<array>', 'pdb_dir': '<array>', 'prot2pdb_chunks': '<array>', 'sampleMutFreq': '<array>', 'sampleMutSpectra': '<array>', 'sampler': '<array>', 'setfile': '<array>', 'timeout': '<array>', 'ttype': '<array>'}\n",
       "                  Outputs: {run_outdir}>"
      ]
     },
     "execution_count": 13,
     "metadata": {},
     "output_type": "execute_result"
    }
   ],
   "source": [
    "clumps_results"
   ]
  },
  {
   "cell_type": "code",
   "execution_count": 16,
   "metadata": {},
   "outputs": [
    {
     "name": "stdout",
     "output_type": "stream",
     "text": [
      "The autoreload extension is already loaded. To reload it, use:\n",
      "  %reload_ext autoreload\n"
     ]
    },
    {
     "data": {
      "text/plain": [
       "'\\n        \\n        \\n        for file in `cat ${clumpsScanOut} | grep -v nan`\\n        do\\n            tar xzvf $file\\n        done\\n        mv sw/res/clumps /sw/res/\\n        \\n        \\n        mv ${mutationsSplitByProtein} /sw/dat/\\n        python /sw/src/clumps_postprocess.py ${setfile}  /sw/res/clumps ${cancerGeneList} ${huniprot2pdb} ${ttype}\\n\\n\\n    '"
      ]
     },
     "execution_count": 16,
     "metadata": {},
     "output_type": "execute_result"
    }
   ],
   "source": [
    "%load_ext autoreload\n",
    "%autoreload 2\n",
    "from tasks import clumps_postprocess_task\n",
    "clumps_postprocess_task.script"
   ]
  },
  {
   "cell_type": "code",
   "execution_count": 17,
   "metadata": {},
   "outputs": [
    {
     "name": "stdout",
     "output_type": "stream",
     "text": [
      "[20230925-17:12:31] [prefect] Starting Slurm controller ...\n",
      "[20230925-17:12:31] [prefect] Waiting up to 60 seconds for Slurm controller to start ...\n",
      "[20230925-17:12:32] [prefect] Started Slurm controller.\n",
      "[20230925-17:12:32] [prefect] Workflow results disk low on space (28 GB remaining)\n",
      "[20230925-17:12:32] [prefect] Cannot recover preexisting task outputs: [Errno 2] No such file or directory: '/mnt/nfs/workspace/clumps_postprocess_task__2023-09-25--17-12-32_cnunvzq_lnmtxla_a0w02qtgjt34k/jobs/0'\n",
      "[20230925-17:12:32] [prefect] Overwriting output and aborting job avoidance.\n",
      "[20230925-17:12:32] [prefect] Localizing inputs...\n",
      "[20230925-17:12:37] [prefect] Task staged in /mnt/nfs/workspace/clumps_postprocess_task__2023-09-25--17-12-32_cnunvzq_lnmtxla_a0w02qtgjt34k\n",
      "[20230925-17:12:37] [prefect] 1 job submitted.\n",
      "[20230925-17:17:09] [prefect] Finished with status COMPLETED\n"
     ]
    }
   ],
   "source": [
    "clumps_post_results = clumps_postprocess_task(\n",
    "    inputs = dict(\n",
    "        mutationsSplitByProtein =clumps_prep_results['mutations'],\n",
    "        clumpsCandidatesOut = [clumps_results['run_outdir']], # this is an array of directories, which in turn contain multiple files                                                                                                                                                                                                                                                             \n",
    "        huniprot2pdb = localization_results['uniprot_map'],\n",
    "        clumpsScanOut = [clumps_results['run_outdir']],\n",
    "        cancerGeneList = localization_results['cancer_genes'],\n",
    "        setfile = '/home/adunford/data/14k.run4',\n",
    "        ttype = \"PanCan\"\n",
    "    )\n",
    ")"
   ]
  },
  {
   "cell_type": "code",
   "execution_count": null,
   "metadata": {},
   "outputs": [],
   "source": [
    "clumps_postprocess_task.docker"
   ]
  },
  {
   "cell_type": "code",
   "execution_count": null,
   "metadata": {},
   "outputs": [],
   "source": [
    "clumps_prep_results['mutations']"
   ]
  },
  {
   "cell_type": "code",
   "execution_count": null,
   "metadata": {},
   "outputs": [],
   "source": []
  }
 ],
 "metadata": {
  "kernelspec": {
   "display_name": "Python 3 (ipykernel)",
   "language": "python",
   "name": "python3"
  },
  "language_info": {
   "codemirror_mode": {
    "name": "ipython",
    "version": 3
   },
   "file_extension": ".py",
   "mimetype": "text/x-python",
   "name": "python",
   "nbconvert_exporter": "python",
   "pygments_lexer": "ipython3",
   "version": "3.9.7"
  }
 },
 "nbformat": 4,
 "nbformat_minor": 4
}
